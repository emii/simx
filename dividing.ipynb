{
 "metadata": {
  "name": ""
 },
 "nbformat": 3,
 "nbformat_minor": 0,
 "worksheets": [
  {
   "cells": [
    {
     "cell_type": "code",
     "collapsed": false,
     "input": [
      "import pygame\n",
      "import random\n",
      "(width,height) = (500,500)\n",
      "screen = pygame.display.set_mode((width, height))\n",
      "pygame.display.set_caption('cell growth')\n",
      "\n",
      "pygame.init()\n",
      "screen = pygame.display.set_mode((600, 600))\n",
      "clock = pygame.time.Clock()\n",
      "running = True\n",
      "ticks_to_next_spawn = 10\n",
      "  \n",
      "bgcolor = (238,232,213)\n",
      "running = True\n",
      "tick = 0\n",
      "size=[15,15]\n",
      "my_particles=[(width/2,height/2)]\n",
      "degree=0\n",
      "\n",
      "while running:\n",
      "    for event in pygame.event.get():\n",
      "        if event.type == pygame.QUIT:\n",
      "            running = False\n",
      "            ticks_to_next_spawn -= 1\n",
      "            size[0]+=1\n",
      "    \n",
      "        \n",
      "    screen.fill(bgcolor)\n",
      "    for p in my_particles:\n",
      "        el=pygame.draw.ellipse(screen, (0,43,54), (p[0], p[1]) + tuple(size), 0)\n",
      "    pygame.display.flip()\n",
      "    clock.tick(50)\n",
      "    pygame.display.set_caption(\"fps: \" + str(clock.get_fps()))\n",
      "pygame.quit()\n",
      "    \n",
      "   \n",
      "\n"
     ],
     "language": "python",
     "metadata": {},
     "outputs": [],
     "prompt_number": 1
    },
    {
     "cell_type": "code",
     "collapsed": false,
     "input": [
      "    15./500."
     ],
     "language": "python",
     "metadata": {},
     "outputs": [
      {
       "metadata": {},
       "output_type": "pyout",
       "prompt_number": 2,
       "text": [
        "0.03"
       ]
      }
     ],
     "prompt_number": 2
    },
    {
     "cell_type": "code",
     "collapsed": false,
     "input": [
      "pygame.quit()"
     ],
     "language": "python",
     "metadata": {},
     "outputs": [],
     "prompt_number": 48
    },
    {
     "cell_type": "code",
     "collapsed": false,
     "input": [
      "print my_particles[0][1]"
     ],
     "language": "python",
     "metadata": {},
     "outputs": [
      {
       "output_type": "stream",
       "stream": "stdout",
       "text": [
        "1\n"
       ]
      }
     ],
     "prompt_number": 18
    },
    {
     "cell_type": "code",
     "collapsed": false,
     "input": [
      "(1,2) + tuple([2,3])"
     ],
     "language": "python",
     "metadata": {},
     "outputs": [
      {
       "metadata": {},
       "output_type": "pyout",
       "prompt_number": 30,
       "text": [
        "(1, 2, 2, 3)"
       ]
      }
     ],
     "prompt_number": 30
    },
    {
     "cell_type": "code",
     "collapsed": false,
     "input": [
      "size=[50,50]"
     ],
     "language": "python",
     "metadata": {},
     "outputs": [],
     "prompt_number": 31
    },
    {
     "cell_type": "code",
     "collapsed": false,
     "input": [
      "size+=[1,1]"
     ],
     "language": "python",
     "metadata": {},
     "outputs": [],
     "prompt_number": 33
    },
    {
     "cell_type": "code",
     "collapsed": false,
     "input": [],
     "language": "python",
     "metadata": {},
     "outputs": [],
     "prompt_number": 35
    },
    {
     "cell_type": "code",
     "collapsed": false,
     "input": [
      "size"
     ],
     "language": "python",
     "metadata": {},
     "outputs": [
      {
       "metadata": {},
       "output_type": "pyout",
       "prompt_number": 36,
       "text": [
        "[51, 50, 1, 1]"
       ]
      }
     ],
     "prompt_number": 36
    },
    {
     "cell_type": "code",
     "collapsed": false,
     "input": [
      "size.append([13,14])"
     ],
     "language": "python",
     "metadata": {},
     "outputs": [],
     "prompt_number": 57
    },
    {
     "cell_type": "code",
     "collapsed": false,
     "input": [
      "size"
     ],
     "language": "python",
     "metadata": {},
     "outputs": [
      {
       "metadata": {},
       "output_type": "pyout",
       "prompt_number": 58,
       "text": [
        "[15, 15, [13, 14]]"
       ]
      }
     ],
     "prompt_number": 58
    },
    {
     "cell_type": "code",
     "collapsed": false,
     "input": [],
     "language": "python",
     "metadata": {},
     "outputs": []
    }
   ],
   "metadata": {}
  }
 ]
}