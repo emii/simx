{
 "metadata": {
  "name": ""
 },
 "nbformat": 3,
 "nbformat_minor": 0,
 "worksheets": [
  {
   "cells": [
    {
     "cell_type": "code",
     "collapsed": false,
     "input": [
      "import pylab as PL\n",
      "import random as RD\n",
      "import scipy as SP\n",
      "import numpy as NP\n",
      "import itertools\n",
      "import pycxsimulator\n",
      "\n",
      "def n(point):\n",
      "    x, y = point\n",
      "    yield x + 1, y\n",
      "    yield x - 1, y\n",
      "    yield x, y + 1\n",
      "    yield x, y - 1\n",
      "    yield x + 1, y + 1\n",
      "    yield x + 1, y - 1\n",
      "    yield x - 1, y + 1\n",
      "    yield x - 1, y - 1\n",
      "\n",
      "def advance(board):\n",
      "    newstate = set()\n",
      "    recalc = board | set(itertools.chain(*map(n,board)))\n",
      "    for point in recalc:\n",
      "        count = sum((ni in board) for ni in n(point))\n",
      "        if count == 3 or (count == 2 and point in board):\n",
      "            newstate.add(point)\n",
      "    return newstate"
     ],
     "language": "python",
     "metadata": {},
     "outputs": [],
     "prompt_number": 1
    },
    {
     "cell_type": "code",
     "collapsed": false,
     "input": [
      "def init():\n",
      "    global time, state\n",
      "    \n",
      "    time = 0\n",
      "    state = set([(0,0),\n",
      "                 (1,0),\n",
      "                 (2,0),\n",
      "                 (0,1),\n",
      "                 (1,2)])\n",
      "    \n",
      "def draw():\n",
      "    global time, state\n",
      "    \n",
      "    if len(state) > 0:\n",
      "    \n",
      "        coords = zip(*state)\n",
      "        minx=min(coords[0])\n",
      "        maxx=max(coords[0])\n",
      "        miny=min(coords[1])\n",
      "        maxy=max(coords[1])\n",
      "        \n",
      "        width=maxx-minx+1\n",
      "        height=maxy-miny+1\n",
      "        \n",
      "        scale=1\n",
      "        border= 2*scale\n",
      "        conf = SP.zeros([width*scale + border*2, height*scale + border* 2])\n",
      "        \n",
      "       \n",
      "        \n",
      "        for i in state:\n",
      "            conf[i[0]-minx+border,i[1]-miny+border]=1\n",
      "        \n",
      "        \n",
      "        PL.cla()\n",
      "        PL.pcolor(conf, vmin = 0, vmax = 1, cmap = PL.cm.binary)\n",
      "        PL.axis('image')\n",
      "        PL.title('t = ' + str(time))\n",
      "    else:\n",
      "        \n",
      "        PL.cla()\n",
      "        PL.title('t = ' + str(time))\n",
      "        \n",
      "def step():\n",
      "    global time, state\n",
      "    \n",
      "    time += 1;\n",
      "    state = advance(state)\n",
      "    "
     ],
     "language": "python",
     "metadata": {},
     "outputs": [],
     "prompt_number": 2
    },
    {
     "cell_type": "code",
     "collapsed": false,
     "input": [
      "pycxsimulator.GUI().start(func=[init,draw,step])"
     ],
     "language": "python",
     "metadata": {},
     "outputs": [],
     "prompt_number": 3
    },
    {
     "cell_type": "code",
     "collapsed": false,
     "input": [],
     "language": "python",
     "metadata": {},
     "outputs": []
    }
   ],
   "metadata": {}
  }
 ]
}