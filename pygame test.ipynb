{
 "metadata": {
  "name": ""
 },
 "nbformat": 3,
 "nbformat_minor": 0,
 "worksheets": [
  {
   "cells": [
    {
     "cell_type": "code",
     "collapsed": false,
     "input": [
      "import pyBodies\n",
      "import random as rd\n",
      "#from scipy.spatial import Delaunay\n",
      "\n",
      "width, height = (300, 300)\n",
      "env = pyBodies.Environment((width, height))\n",
      "env.gravity = 0\n",
      "env.elasticity = 0.3\n",
      "env.viscosity = 0.001\n",
      "env.growth_rate = 0\n",
      "env.gravicenter = (width/2 ,height/2)\n",
      "env.fps = 50\n",
      "\n",
      "\n",
      "\n",
      "\n",
      "xs = width/2\n",
      "ys = height/2\n",
      "density=1\n",
      "#env.addParticle(x=xs, y=ys, size=7,mass = density*7**2,color=(113, 196, 237), charge=1)\n",
      "env.addParticle(x=xs, y=ys, size=7,mass = density*7**2,color=(113, 196, 237), charge=1)\n",
      "env.addParticle(x=xs, y=ys, size=7,mass = density*7**2,color=(113, 196, 0), charge=1)\n",
      "\n",
      "\n",
      "\n",
      "\n",
      "\n",
      "    \n",
      "    \n",
      "env.run('central gravity')\n",
      "\n",
      "    \n"
     ],
     "language": "python",
     "metadata": {},
     "outputs": [],
     "prompt_number": 2
    },
    {
     "cell_type": "code",
     "collapsed": false,
     "input": [
      "import pyBodies\n",
      "import random as rd\n",
      "#from scipy.spatial import Delaunay\n",
      "\n",
      "width, height = (300, 300)\n",
      "env = pyBodies.Environment((width, height))\n",
      "env.gravity = 0\n",
      "env.elasticity = 0\n",
      "env.viscosity = 2\n",
      "env.growth_rate = 0\n",
      "env.gravicenter = (width/2 ,height/2)\n",
      "env.fps = 50\n",
      "\n",
      "#env = pyBodies.Environment((width, height),gravity=0.002,elasticity=0.8,viscosity = 0.5)\n",
      "#env = pyBodies.Environment((width, height),elasticity=0.8,viscosity = 0.5)\n",
      "\n",
      "number_of_particles = 100\n",
      "particlecoords = []\n",
      "for i in xrange(number_of_particles):\n",
      "    sizes = 7\n",
      "    density = 1\n",
      "    xs = width/2\n",
      "    ys = height/2\n",
      "    particlecoords.append([xs,ys])\n",
      "    env.addParticle(x=xs, y=ys, size=sizes,\n",
      "                    mass = density*sizes**2,color=(113, 196, 237),charge=1)\n",
      "    \n",
      "env.addParticle(x = 0,y = 0,size = 5,mass = 250,color = (220,50,47),gravity = 3,growth_rate=0,gravicenter = (width ,height),charge=-1)\n",
      "\n",
      "#env.addSpring(env.particles[0], env.particles[1], length=env.particles[0].size+env.particles[1].size+2, strength=2000)\n",
      "#env.addSpring(env.particles[1], env.particles[2], length=env.particles[1].size+env.particles[2].size+2, strength=2000)\n",
      "\n",
      "\n",
      "\n",
      "\n",
      "\n",
      "\n",
      "    \n",
      "    \n",
      "env.run('central gravity')\n",
      "\n",
      "    \n"
     ],
     "language": "python",
     "metadata": {},
     "outputs": [],
     "prompt_number": 1
    },
    {
     "cell_type": "code",
     "collapsed": false,
     "input": [
      "\n",
      "    \n",
      "\n",
      "    \n",
      "#free_a=array(particlecoords)\n",
      "#tri=Delaunay(free_a)\n",
      "#edges=set()\n",
      "#vertices=tri.vertices.copy()\n",
      "#for i in range(size(vertices,0)):\n",
      " #   for j in range(2):\n",
      "  #      edges.add((tri.vertices[i,j],tri.vertices[i,j+1])) \n",
      "\n",
      "#for ed in edges:\n",
      " #   env.addSpring(ed[0], ed[1], length=20, strength=20)"
     ],
     "language": "python",
     "metadata": {},
     "outputs": [
      {
       "metadata": {},
       "output_type": "pyout",
       "prompt_number": 7,
       "text": [
        "466"
       ]
      }
     ],
     "prompt_number": 7
    },
    {
     "cell_type": "code",
     "collapsed": false,
     "input": [
      "import pyBodies\n",
      "import random as rd\n",
      "#from scipy.spatial import Delaunay\n",
      "\n",
      "width, height = (300, 300)\n",
      "env = pyBodies.Environment((width, height))\n",
      "env.gravity = 0\n",
      "env.elasticity = 0.5\n",
      "env.viscosity = 0.1\n",
      "env.growth_rate = 0\n",
      "env.gravicenter = (width/2 ,height/2)\n",
      "env.fps = 50\n",
      "\n",
      "number_of_particles = 5\n",
      "\n",
      "\n",
      "for i in xrange(number_of_particles):\n",
      "    sizes = rd.randint(5,10)\n",
      "    density = 1\n",
      "    xs = rd.randint(1,20)\n",
      "    ys = rd.randint(1,20)\n",
      "    env.addParticle(x=xs, y=ys, size=sizes,\n",
      "                    mass = density*sizes**2,color=(113, 196, 237))\n",
      "    \n",
      "\n",
      "\n",
      "    \n",
      "env.run('central gravity')\n"
     ],
     "language": "python",
     "metadata": {},
     "outputs": [],
     "prompt_number": 1
    },
    {
     "cell_type": "code",
     "collapsed": false,
     "input": [
      "import kdtree"
     ],
     "language": "python",
     "metadata": {},
     "outputs": [],
     "prompt_number": 1
    },
    {
     "cell_type": "code",
     "collapsed": false,
     "input": [
      "tree = kdtree.create(env.particles,dimensions=2)"
     ],
     "language": "python",
     "metadata": {},
     "outputs": [],
     "prompt_number": 5
    },
    {
     "cell_type": "code",
     "collapsed": false,
     "input": [
      "[(p[0],p[1]) for p in env.particles]"
     ],
     "language": "python",
     "metadata": {},
     "outputs": [
      {
       "metadata": {},
       "output_type": "pyout",
       "prompt_number": 6,
       "text": [
        "[(4.98837177204127, 2.0961374547040785),\n",
        " (7, 19),\n",
        " (9, 19),\n",
        " (9, 2),\n",
        " (11, 18),\n",
        " (17, 10),\n",
        " (17, 11),\n",
        " (17, 17),\n",
        " (18, 5),\n",
        " (19, 19)]"
       ]
      }
     ],
     "prompt_number": 6
    },
    {
     "cell_type": "code",
     "collapsed": false,
     "input": [
      "a=tree.search_nn((0,0)).data"
     ],
     "language": "python",
     "metadata": {},
     "outputs": [],
     "prompt_number": 8
    },
    {
     "cell_type": "code",
     "collapsed": false,
     "input": [
      "tree.search_nn_dist((1,15),500)"
     ],
     "language": "python",
     "metadata": {},
     "outputs": [
      {
       "metadata": {},
       "output_type": "pyout",
       "prompt_number": 13,
       "text": [
        "[<KDNode - (<pyBodies.Particle instance at 0x2dfaa28>, 10, 1)>,\n",
        " <KDNode - (<pyBodies.Particle instance at 0x2dfa440>, 1, 15)>,\n",
        " <KDNode - (<pyBodies.Particle instance at 0x314edd0>, 7, 10)>,\n",
        " <KDNode - (<pyBodies.Particle instance at 0x2dfad40>, 6, 10)>,\n",
        " <KDNode - (<pyBodies.Particle instance at 0x2dfab00>, 9, 20)>,\n",
        " <KDNode - (<pyBodies.Particle instance at 0x2dfa050>, 9, 19)>,\n",
        " <KDNode - (<pyBodies.Particle instance at 0x2dfaa70>, 13, 14)>,\n",
        " <KDNode - (<pyBodies.Particle instance at 0x314ef38>, 18, 16)>,\n",
        " <KDNode - (<pyBodies.Particle instance at 0x2dfacb0>, 19, 8)>,\n",
        " <KDNode - (<pyBodies.Particle instance at 0x2dfac20>, 16, 1)>]"
       ]
      }
     ],
     "prompt_number": 13
    },
    {
     "cell_type": "code",
     "collapsed": false,
     "input": [
      "tree.search_nn_dist_p(env.particles[0],env.particles[0].size*4)"
     ],
     "language": "python",
     "metadata": {},
     "outputs": [
      {
       "metadata": {},
       "output_type": "pyout",
       "prompt_number": 17,
       "text": [
        "[]"
       ]
      }
     ],
     "prompt_number": 17
    },
    {
     "cell_type": "code",
     "collapsed": false,
     "input": [
      "env.particles[0].size"
     ],
     "language": "python",
     "metadata": {},
     "outputs": [
      {
       "metadata": {},
       "output_type": "pyout",
       "prompt_number": 18,
       "text": [
        "10"
       ]
      }
     ],
     "prompt_number": 18
    },
    {
     "cell_type": "code",
     "collapsed": false,
     "input": [
      "a.x"
     ],
     "language": "python",
     "metadata": {},
     "outputs": [
      {
       "metadata": {},
       "output_type": "pyout",
       "prompt_number": 10,
       "text": [
        "4.98837177204127"
       ]
      }
     ],
     "prompt_number": 10
    },
    {
     "cell_type": "code",
     "collapsed": false,
     "input": [
      "a"
     ],
     "language": "python",
     "metadata": {},
     "outputs": [
      {
       "metadata": {},
       "output_type": "pyout",
       "prompt_number": 8,
       "text": [
        "[1, 1, 2, 2]"
       ]
      }
     ],
     "prompt_number": 8
    },
    {
     "cell_type": "code",
     "collapsed": false,
     "input": [
      "import math\n"
     ],
     "language": "python",
     "metadata": {},
     "outputs": [],
     "prompt_number": 3
    },
    {
     "cell_type": "code",
     "collapsed": false,
     "input": [
      "math.copysign(1,none)"
     ],
     "language": "python",
     "metadata": {},
     "outputs": [
      {
       "ename": "NameError",
       "evalue": "name 'none' is not defined",
       "output_type": "pyerr",
       "traceback": [
        "\u001b[1;31m---------------------------------------------------------------------------\u001b[0m\n\u001b[1;31mNameError\u001b[0m                                 Traceback (most recent call last)",
        "\u001b[1;32m<ipython-input-7-93b93d8ec506>\u001b[0m in \u001b[0;36m<module>\u001b[1;34m()\u001b[0m\n\u001b[1;32m----> 1\u001b[1;33m \u001b[0mmath\u001b[0m\u001b[1;33m.\u001b[0m\u001b[0mcopysign\u001b[0m\u001b[1;33m(\u001b[0m\u001b[1;36m1\u001b[0m\u001b[1;33m,\u001b[0m\u001b[0mnone\u001b[0m\u001b[1;33m)\u001b[0m\u001b[1;33m\u001b[0m\u001b[0m\n\u001b[0m",
        "\u001b[1;31mNameError\u001b[0m: name 'none' is not defined"
       ]
      }
     ],
     "prompt_number": 7
    },
    {
     "cell_type": "code",
     "collapsed": false,
     "input": [],
     "language": "python",
     "metadata": {},
     "outputs": []
    }
   ],
   "metadata": {}
  }
 ]
}