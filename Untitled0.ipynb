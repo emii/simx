{
 "metadata": {
  "name": ""
 },
 "nbformat": 3,
 "nbformat_minor": 0,
 "worksheets": [
  {
   "cells": [
    {
     "cell_type": "markdown",
     "metadata": {},
     "source": [
      "This is the diffusion model for pysimulator"
     ]
    },
    {
     "cell_type": "code",
     "collapsed": false,
     "input": [
      "import pylab as PL\n",
      "import random as RD\n",
      "import scipy as SP\n",
      "import pycxsimulator\n",
      "from scipy.spatial import Delaunay\n",
      "\n",
      "RD.seed()\n",
      "\n",
      "width = 100\n",
      "height = 100\n",
      "populationSize = 100\n",
      "noiseLevel = 2\n",
      "collisionDistance = 2\n",
      "CDsquared = collisionDistance ** 2\n",
      "toBeRemoved = -1\n",
      "global time, free, fixed\n",
      "time = 0\n",
      "free = []\n",
      "fixed = []"
     ],
     "language": "python",
     "metadata": {},
     "outputs": [],
     "prompt_number": 1
    },
    {
     "cell_type": "code",
     "collapsed": false,
     "input": [
      "def init():\n",
      "    global time, free, fixed\n",
      "\n",
      "    time = 0\n",
      "    \n",
      "    free = []\n",
      "    for i in xrange(populationSize - 1):\n",
      "        free.append([RD.uniform(0, width), RD.uniform(0, height)])\n",
      "\n",
      "    fixed = []\n",
      "    fixed.append([width / 2, height / 2])"
     ],
     "language": "python",
     "metadata": {},
     "outputs": [],
     "prompt_number": 2
    },
    {
     "cell_type": "code",
     "collapsed": false,
     "input": [
      "def draw():\n",
      "    PL.cla()\n",
      "    \n",
      "    if free != []:\n",
      "        x = [ag[0] for ag in free]\n",
      "        y = [ag[1] for ag in free]\n",
      "        PL.scatter(x, y, color = 'cyan')\n",
      "        PL.hold(True)\n",
      "        free_a=array(free)\n",
      "        tri=Delaunay(free_a)\n",
      "        PL.triplot(free_a[:,0], free_a[:,1], tri.vertices.copy())\n",
      "    if fixed != []:\n",
      "        \n",
      "        x = [ag[0] for ag in fixed]\n",
      "        y = [ag[1] for ag in fixed]\n",
      "        PL.scatter(x, y, color = 'blue')\n",
      "        PL.hold(False)\n",
      "    PL.axis('scaled')\n",
      "    PL.axis([0, width, 0, height])\n",
      "    PL.title('t = ' + str(time))\n",
      "    PL.draw()"
     ],
     "language": "python",
     "metadata": {},
     "outputs": [],
     "prompt_number": 3
    },
    {
     "cell_type": "code",
     "collapsed": false,
     "input": [
      "def clip(a, amin, amax):\n",
      "    if a < amin: return amin\n",
      "    elif a > amax: return amax\n",
      "    else: return a"
     ],
     "language": "python",
     "metadata": {},
     "outputs": [],
     "prompt_number": 4
    },
    {
     "cell_type": "code",
     "collapsed": false,
     "input": [
      "def step():\n",
      "    global time, free, fixed\n",
      "\n",
      "    time += 1\n",
      "\n",
      "    # simulate random motion\n",
      "    for ag in free:\n",
      "        ag[0] += RD.gauss(0, noiseLevel)\n",
      "        ag[1] += RD.gauss(0, noiseLevel)\n",
      "        ag[0] = clip(ag[0], 0, width)\n",
      "        ag[1] = clip(ag[1], 0, height)\n",
      "\n",
      "    # detect collision and change state\n",
      "    for i in xrange(len(free)):\n",
      "        for j in xrange(len(fixed)):\n",
      "            if (free[i][0]-fixed[j][0])**2 + (free[i][1]-fixed[j][1])**2 < CDsquared:\n",
      "                fixed.append(free[i])\n",
      "                free[i] = toBeRemoved\n",
      "                break\n",
      "\n",
      "    # remove \"toBeRemoved\" free particles\n",
      "    while toBeRemoved in free:\n",
      "        free.remove(toBeRemoved)"
     ],
     "language": "python",
     "metadata": {},
     "outputs": [],
     "prompt_number": 5
    },
    {
     "cell_type": "code",
     "collapsed": false,
     "input": [
      "pycxsimulator.GUI().start(func=[init,draw,step])"
     ],
     "language": "python",
     "metadata": {},
     "outputs": [],
     "prompt_number": 6
    },
    {
     "cell_type": "code",
     "collapsed": false,
     "input": [],
     "language": "python",
     "metadata": {},
     "outputs": [],
     "prompt_number": 6
    }
   ],
   "metadata": {}
  }
 ]
}